{
 "cells": [
  {
   "cell_type": "markdown",
   "id": "b1287034-20af-4336-8dfb-0a4085b073d2",
   "metadata": {},
   "source": [
    "# 1. STRING SLICING "
   ]
  },
  {
   "cell_type": "code",
   "execution_count": null,
   "id": "5db1c7d3-0104-4e00-bb93-75adbc552b2e",
   "metadata": {},
   "outputs": [],
   "source": [
    "#String slicing is a powerful feature in python >> it allow you to extract a substring from a given string\n",
    "# syntax >> string[start:end:step] by default start is 0, end is len(string) and step is 1.\n"
   ]
  },
  {
   "cell_type": "code",
   "execution_count": 1,
   "id": "8287943e-3637-45c2-b6c0-3b4107e7896c",
   "metadata": {},
   "outputs": [
    {
     "data": {
      "text/plain": [
       "'hell'"
      ]
     },
     "execution_count": 1,
     "metadata": {},
     "output_type": "execute_result"
    }
   ],
   "source": [
    "string = \"hello everyone\"\n",
    "string[0:4]  #index [0:4]"
   ]
  },
  {
   "cell_type": "code",
   "execution_count": 4,
   "id": "0d626b7b-656a-42dc-b698-91a94ca80d50",
   "metadata": {},
   "outputs": [
    {
     "data": {
      "text/plain": [
       "'hello everyon'"
      ]
     },
     "execution_count": 4,
     "metadata": {},
     "output_type": "execute_result"
    }
   ],
   "source": [
    "string[:-1] #index[0:-1]"
   ]
  },
  {
   "cell_type": "code",
   "execution_count": 3,
   "id": "e0c33e30-e6e4-48e5-bf30-df57f728e43e",
   "metadata": {},
   "outputs": [
    {
     "data": {
      "text/plain": [
       "'enoyreve olleh'"
      ]
     },
     "execution_count": 3,
     "metadata": {},
     "output_type": "execute_result"
    }
   ],
   "source": [
    "#reverse string\n",
    "\n",
    "string[::-1]"
   ]
  },
  {
   "cell_type": "markdown",
   "id": "9309247c-2ba4-406b-b3ff-f1766c222f24",
   "metadata": {},
   "source": [
    "# 2. Lists in python"
   ]
  },
  {
   "cell_type": "code",
   "execution_count": null,
   "id": "cc18e8f1-a8d4-45f8-a133-e2e2ac86f83a",
   "metadata": {},
   "outputs": [],
   "source": [
    "#List are ordered collection of items\n",
    "#List are store every datatype(int,float,str,bool,ect)\n",
    "# list = []\n",
    "#list are mutable"
   ]
  },
  {
   "cell_type": "code",
   "execution_count": 3,
   "id": "8b521e44-84aa-4c37-97d7-b756e338d29c",
   "metadata": {},
   "outputs": [
    {
     "data": {
      "text/plain": [
       "[1, 2.5, 'Apple', 'banana', True]"
      ]
     },
     "execution_count": 3,
     "metadata": {},
     "output_type": "execute_result"
    }
   ],
   "source": [
    "list = [1,2.5,\"Apple\",\"banana\",True]\n",
    "list"
   ]
  },
  {
   "cell_type": "code",
   "execution_count": 4,
   "id": "c6cef5fe-ff79-4573-a8d9-bdf55348ec8a",
   "metadata": {},
   "outputs": [
    {
     "data": {
      "text/plain": [
       "1"
      ]
     },
     "execution_count": 4,
     "metadata": {},
     "output_type": "execute_result"
    }
   ],
   "source": [
    "list[0]    #ordered list"
   ]
  },
  {
   "cell_type": "code",
   "execution_count": 5,
   "id": "4009f254-5f10-4c6c-9bc6-64beb1537a4d",
   "metadata": {},
   "outputs": [],
   "source": [
    "list[0]= \"lichi\""
   ]
  },
  {
   "cell_type": "code",
   "execution_count": 6,
   "id": "4802ae80-6a53-45b3-b8b7-a2f1fc7c60de",
   "metadata": {},
   "outputs": [
    {
     "data": {
      "text/plain": [
       "['lichi', 2.5, 'Apple', 'banana', True]"
      ]
     },
     "execution_count": 6,
     "metadata": {},
     "output_type": "execute_result"
    }
   ],
   "source": [
    "list"
   ]
  },
  {
   "cell_type": "markdown",
   "id": "37551b02-f269-4bdd-a018-238584c6e913",
   "metadata": {},
   "source": [
    "# 3. Access, modify and delete elements from list"
   ]
  },
  {
   "cell_type": "code",
   "execution_count": 8,
   "id": "42adea84-9c81-40fd-9eb9-591a69ef49cc",
   "metadata": {},
   "outputs": [
    {
     "data": {
      "text/plain": [
       "['potato', 'brinjal', 'apple', 'banana', 'melon']"
      ]
     },
     "execution_count": 8,
     "metadata": {},
     "output_type": "execute_result"
    }
   ],
   "source": [
    "l =[\"potato\",\"brinjal\",\"apple\",\"banana\",\"melon\"]\n",
    "l"
   ]
  },
  {
   "cell_type": "code",
   "execution_count": 9,
   "id": "41ab4015-c080-4ea2-ace7-743ddbaa0177",
   "metadata": {},
   "outputs": [
    {
     "data": {
      "text/plain": [
       "'melon'"
      ]
     },
     "execution_count": 9,
     "metadata": {},
     "output_type": "execute_result"
    }
   ],
   "source": [
    "#access l[4] from list\n",
    "\n",
    "l[4]"
   ]
  },
  {
   "cell_type": "code",
   "execution_count": 10,
   "id": "b64dbb39-06fa-4ad9-82fa-e656eb6ef66a",
   "metadata": {},
   "outputs": [],
   "source": [
    "#modify a element  melon change to 100\n",
    "\n",
    "l[4] = 100"
   ]
  },
  {
   "cell_type": "code",
   "execution_count": 11,
   "id": "c358d217-c1b4-4c48-b952-d39434cb308c",
   "metadata": {},
   "outputs": [
    {
     "data": {
      "text/plain": [
       "['potato', 'brinjal', 'apple', 'banana', 100]"
      ]
     },
     "execution_count": 11,
     "metadata": {},
     "output_type": "execute_result"
    }
   ],
   "source": [
    "l"
   ]
  },
  {
   "cell_type": "code",
   "execution_count": 12,
   "id": "62022388-65d5-4166-9658-4a8b6544acca",
   "metadata": {},
   "outputs": [],
   "source": [
    "#delete element from list\n",
    "\n",
    "l.remove(100)"
   ]
  },
  {
   "cell_type": "code",
   "execution_count": 13,
   "id": "eb48f019-01ef-462d-a482-692a4a4beb1a",
   "metadata": {},
   "outputs": [
    {
     "data": {
      "text/plain": [
       "['potato', 'brinjal', 'apple', 'banana']"
      ]
     },
     "execution_count": 13,
     "metadata": {},
     "output_type": "execute_result"
    }
   ],
   "source": [
    "l"
   ]
  },
  {
   "cell_type": "markdown",
   "id": "0dd90949-2c8e-4a3b-afbe-65e0e135e3e5",
   "metadata": {},
   "source": [
    "# 4. Tuples and list"
   ]
  },
  {
   "cell_type": "code",
   "execution_count": null,
   "id": "0b109a78-1342-4c1d-85db-660aa15b900a",
   "metadata": {},
   "outputs": [],
   "source": [
    "#Tuples: Tuples are immutable and you cannot add, remove, or modify elements in a tuple"
   ]
  },
  {
   "cell_type": "code",
   "execution_count": null,
   "id": "9008315d-6b94-408a-be99-09ede236d98a",
   "metadata": {},
   "outputs": [],
   "source": [
    "my_tuple = (1, 2, 3)\n",
    "# my_tuple.append(4)  # This will raise an AttributeError\n",
    "# my_tuple[1] = 5     # This will raise a TypeError\n",
    "my_tuple    \n"
   ]
  },
  {
   "cell_type": "code",
   "execution_count": null,
   "id": "70462524-61cb-434f-90df-8b6a665673e4",
   "metadata": {},
   "outputs": [],
   "source": [
    "#Lists: Lists are mutable, that's why list includes adding, removing, or altering elements."
   ]
  },
  {
   "cell_type": "code",
   "execution_count": 14,
   "id": "c8392e66-9fb0-4b78-a222-7130671421dd",
   "metadata": {},
   "outputs": [
    {
     "data": {
      "text/plain": [
       "[4, 10, 6, 7, 8]"
      ]
     },
     "execution_count": 14,
     "metadata": {},
     "output_type": "execute_result"
    }
   ],
   "source": [
    "my_list = [4,5,6,7]\n",
    "my_list.append(8)  # Adds 8 to the end of the list\n",
    "my_list[1] = 10    # Changes the second element to 10\n",
    "my_list  "
   ]
  },
  {
   "cell_type": "markdown",
   "id": "582271a0-7a89-463b-b79a-f5e8735cd766",
   "metadata": {},
   "source": [
    "# 5. Sets "
   ]
  },
  {
   "cell_type": "code",
   "execution_count": null,
   "id": "31751414-44bf-42a7-a2c4-50d44ac7d72b",
   "metadata": {},
   "outputs": [],
   "source": [
    "# sets >> sets are unordered and unique collection of elements\n",
    "# doesn't allow duplicate elements\n",
    "#unordered >> indexing will not work"
   ]
  },
  {
   "cell_type": "code",
   "execution_count": 16,
   "id": "1d13028d-24de-4a02-9ae5-4d023b35d9c9",
   "metadata": {},
   "outputs": [
    {
     "data": {
      "text/plain": [
       "set"
      ]
     },
     "execution_count": 16,
     "metadata": {},
     "output_type": "execute_result"
    }
   ],
   "source": [
    "s = set()\n",
    "type(s)"
   ]
  },
  {
   "cell_type": "code",
   "execution_count": 17,
   "id": "d73486e4-83dd-40ff-9227-8c1008429255",
   "metadata": {},
   "outputs": [
    {
     "data": {
      "text/plain": [
       "{1, 2, 3, 4, 5, 6, 'apple', 'mango'}"
      ]
     },
     "execution_count": 17,
     "metadata": {},
     "output_type": "execute_result"
    }
   ],
   "source": [
    "s = {1,2,3,4,5,6,\"apple\",\"mango\",True}\n",
    "s"
   ]
  },
  {
   "cell_type": "code",
   "execution_count": 18,
   "id": "def21c8a-4c89-47ba-9632-cab5cd37cdfa",
   "metadata": {},
   "outputs": [
    {
     "ename": "TypeError",
     "evalue": "'set' object is not subscriptable",
     "output_type": "error",
     "traceback": [
      "\u001b[0;31m---------------------------------------------------------------------------\u001b[0m",
      "\u001b[0;31mTypeError\u001b[0m                                 Traceback (most recent call last)",
      "Cell \u001b[0;32mIn[18], line 1\u001b[0m\n\u001b[0;32m----> 1\u001b[0m \u001b[43ms\u001b[49m\u001b[43m[\u001b[49m\u001b[38;5;241;43m0\u001b[39;49m\u001b[43m]\u001b[49m\n",
      "\u001b[0;31mTypeError\u001b[0m: 'set' object is not subscriptable"
     ]
    }
   ],
   "source": [
    "s[0] #indexing not work"
   ]
  },
  {
   "cell_type": "code",
   "execution_count": 20,
   "id": "42b6442f-1656-43cc-809f-86701be11f92",
   "metadata": {},
   "outputs": [
    {
     "ename": "TypeError",
     "evalue": "'set' object does not support item assignment",
     "output_type": "error",
     "traceback": [
      "\u001b[0;31m---------------------------------------------------------------------------\u001b[0m",
      "\u001b[0;31mTypeError\u001b[0m                                 Traceback (most recent call last)",
      "Cell \u001b[0;32mIn[20], line 1\u001b[0m\n\u001b[0;32m----> 1\u001b[0m \u001b[43ms\u001b[49m\u001b[43m[\u001b[49m\u001b[38;5;241;43m0\u001b[39;49m\u001b[43m]\u001b[49m \u001b[38;5;241m=\u001b[39m \u001b[38;5;124m\"\u001b[39m\u001b[38;5;124mbanana\u001b[39m\u001b[38;5;124m\"\u001b[39m   \u001b[38;5;66;03m#immutable sets\u001b[39;00m\n",
      "\u001b[0;31mTypeError\u001b[0m: 'set' object does not support item assignment"
     ]
    }
   ],
   "source": [
    "s[0] = \"banana\"   #immutable sets"
   ]
  },
  {
   "cell_type": "code",
   "execution_count": null,
   "id": "6682e4db-029c-4d13-a89b-8e9e772339bc",
   "metadata": {},
   "outputs": [],
   "source": [
    "# set operations\n",
    "\n",
    "#UNION <<Combines elements from two sets excluding deplicates(duplicate are not allowed)\n",
    "#INTERSECTION : only common elements between sets\n",
    "#DIFFRENCE : return the elements that is present in first set and not in second\n",
    "#SYMMETRIC DIFFRENCE : returns elements that are present in either of sets but not in both"
   ]
  },
  {
   "cell_type": "code",
   "execution_count": 23,
   "id": "b6600f2e-a014-4d06-8e05-30968ecf29a0",
   "metadata": {},
   "outputs": [],
   "source": [
    "s1 = {\"apple\",\"mango\",\"banana\",\"melon\"}\n",
    "\n",
    "s2 = {\"potato\",\"apple\",\"brinjal\",\"tomato\"}"
   ]
  },
  {
   "cell_type": "code",
   "execution_count": 24,
   "id": "70b02d70-b898-4c63-a938-d15fb10d88e6",
   "metadata": {},
   "outputs": [
    {
     "data": {
      "text/plain": [
       "{'apple', 'banana', 'brinjal', 'mango', 'melon', 'potato', 'tomato'}"
      ]
     },
     "execution_count": 24,
     "metadata": {},
     "output_type": "execute_result"
    }
   ],
   "source": [
    "#union << combine all the elements\n",
    "\n",
    "s1|s2"
   ]
  },
  {
   "cell_type": "code",
   "execution_count": 25,
   "id": "28557f3a-4008-485e-8d9c-c2b60947367e",
   "metadata": {},
   "outputs": [
    {
     "data": {
      "text/plain": [
       "{'apple'}"
      ]
     },
     "execution_count": 25,
     "metadata": {},
     "output_type": "execute_result"
    }
   ],
   "source": [
    "#INTERSECTION : only common elements between sets\n",
    "\n",
    "s1&s2"
   ]
  },
  {
   "cell_type": "code",
   "execution_count": 27,
   "id": "ef72616a-0bf7-4257-8708-2f9fc9a18944",
   "metadata": {},
   "outputs": [
    {
     "data": {
      "text/plain": [
       "{'banana', 'mango', 'melon'}"
      ]
     },
     "execution_count": 27,
     "metadata": {},
     "output_type": "execute_result"
    }
   ],
   "source": [
    "#diffrence << element present in first set and not present in second set\n",
    "\n",
    "s1-s2"
   ]
  },
  {
   "cell_type": "code",
   "execution_count": 26,
   "id": "1202dd16-41df-4669-8a03-de633358845f",
   "metadata": {},
   "outputs": [
    {
     "data": {
      "text/plain": [
       "{'banana', 'brinjal', 'mango', 'melon', 'potato', 'tomato'}"
      ]
     },
     "execution_count": 26,
     "metadata": {},
     "output_type": "execute_result"
    }
   ],
   "source": [
    "#symmetric diffrence <<gives all the elements without common elements\n",
    "\n",
    "\n",
    "s1^s2"
   ]
  },
  {
   "cell_type": "markdown",
   "id": "02bfdcea-d572-4f3e-8539-58a161d7f851",
   "metadata": {},
   "source": [
    "# 6. use case of tuples and sets "
   ]
  },
  {
   "cell_type": "code",
   "execution_count": null,
   "id": "49a16b7d-2c9f-408b-95d3-83d81d8302a8",
   "metadata": {},
   "outputs": [],
   "source": [
    "#Tuples are odered collection of data <<tuples are immutable "
   ]
  },
  {
   "cell_type": "code",
   "execution_count": 28,
   "id": "d3ba0269-73c2-417f-aeec-168bb0fca91d",
   "metadata": {},
   "outputs": [
    {
     "ename": "TypeError",
     "evalue": "'tuple' object does not support item assignment",
     "output_type": "error",
     "traceback": [
      "\u001b[0;31m---------------------------------------------------------------------------\u001b[0m",
      "\u001b[0;31mTypeError\u001b[0m                                 Traceback (most recent call last)",
      "Cell \u001b[0;32mIn[28], line 4\u001b[0m\n\u001b[1;32m      1\u001b[0m \u001b[38;5;66;03m#use case >> use tuples as a data structure where you dont want to modified the data << like emp id,Adhar no,account no etc.\u001b[39;00m\n\u001b[1;32m      3\u001b[0m emp_id \u001b[38;5;241m=\u001b[39m (\u001b[38;5;241m101\u001b[39m,\u001b[38;5;241m102\u001b[39m,\u001b[38;5;241m103\u001b[39m)\n\u001b[0;32m----> 4\u001b[0m \u001b[43memp_id\u001b[49m\u001b[43m[\u001b[49m\u001b[38;5;241;43m0\u001b[39;49m\u001b[43m]\u001b[49m \u001b[38;5;241m=\u001b[39m\u001b[38;5;241m100\u001b[39m\n",
      "\u001b[0;31mTypeError\u001b[0m: 'tuple' object does not support item assignment"
     ]
    }
   ],
   "source": [
    "#use case >> use tuples as a data structure where you dont want to modified the data << like emp id,Adhar no,account no etc.\n",
    "\n",
    "emp_id = (101,102,103)\n",
    "emp_id[0] =100"
   ]
  },
  {
   "cell_type": "code",
   "execution_count": null,
   "id": "0e1bc569-6851-4505-a5f4-dce35b6e0f78",
   "metadata": {},
   "outputs": [],
   "source": [
    "#Sets are unordered collection of unique elements << sets are immutable"
   ]
  },
  {
   "cell_type": "code",
   "execution_count": 29,
   "id": "9649d7b1-c484-4c64-9b33-dc3020f2c39c",
   "metadata": {},
   "outputs": [],
   "source": [
    "#use case>> sets are use for identify the unique elements from data\n",
    "\n",
    "\n",
    "grocery_list = {\"apple\",\"banana\",\"mango\",\"apple\",\"potato\",\"tomato\",\"potato\",\"banana\",\"apple\"}"
   ]
  },
  {
   "cell_type": "code",
   "execution_count": 31,
   "id": "c7eb04a5-3336-467e-8e1c-ae182994ffdf",
   "metadata": {},
   "outputs": [
    {
     "data": {
      "text/plain": [
       "{'apple', 'banana', 'mango', 'potato', 'tomato'}"
      ]
     },
     "execution_count": 31,
     "metadata": {},
     "output_type": "execute_result"
    }
   ],
   "source": [
    "grocery_list   # show only unique elements"
   ]
  },
  {
   "cell_type": "markdown",
   "id": "573b0c72-8d62-490e-b2a6-90c7d3a07837",
   "metadata": {},
   "source": [
    "# 7. Add, modify, and delete items in a dictionary "
   ]
  },
  {
   "cell_type": "code",
   "execution_count": 32,
   "id": "32106608-312e-4b56-ab34-3b1407a620c8",
   "metadata": {},
   "outputs": [],
   "source": [
    "my_dic = {\"name\" : \"ranjana\",\n",
    "          \"age\" : 17,\n",
    "          \"email\" : \"ranjana123@gmail.com\",\n",
    "          \"contact\" : 9876543217}"
   ]
  },
  {
   "cell_type": "code",
   "execution_count": 33,
   "id": "714a4ad9-d0c8-4bc3-96cd-d5e20b867d8f",
   "metadata": {},
   "outputs": [
    {
     "data": {
      "text/plain": [
       "{'name': 'ranjana',\n",
       " 'age': 17,\n",
       " 'email': 'ranjana123@gmail.com',\n",
       " 'contact': 9876543217}"
      ]
     },
     "execution_count": 33,
     "metadata": {},
     "output_type": "execute_result"
    }
   ],
   "source": [
    "my_dic"
   ]
  },
  {
   "cell_type": "code",
   "execution_count": 42,
   "id": "0801d5d5-e96d-40fb-83ec-7f83766c1792",
   "metadata": {},
   "outputs": [
    {
     "data": {
      "text/plain": [
       "{'name': 'ranjana',\n",
       " 'age': 22,\n",
       " 'email': 'ranjana123@gmail.com',\n",
       " 'contact': 9876543217,\n",
       " 'address': 'n-77 A.V Delhi'}"
      ]
     },
     "execution_count": 42,
     "metadata": {},
     "output_type": "execute_result"
    }
   ],
   "source": [
    "my_dic[\"address\"] = \"n-77 A.V Delhi\"   #add item in dictionary\n",
    "\n",
    "my_dic"
   ]
  },
  {
   "cell_type": "code",
   "execution_count": 37,
   "id": "66848977-c7b2-4678-b396-2e98cefb40a7",
   "metadata": {},
   "outputs": [
    {
     "data": {
      "text/plain": [
       "{'name': 'ranjana',\n",
       " 'age': 22,\n",
       " 'email': 'ranjana123@gmail.com',\n",
       " 'contact': 9876543217,\n",
       " 'address': 'n-77 A.V Delhi'}"
      ]
     },
     "execution_count": 37,
     "metadata": {},
     "output_type": "execute_result"
    }
   ],
   "source": [
    "my_dic[\"age\"] = 22   # modify an element\n",
    "\n",
    "my_dic"
   ]
  },
  {
   "cell_type": "code",
   "execution_count": 43,
   "id": "3bd7946b-561c-462d-bd5a-6c4724ebcde2",
   "metadata": {},
   "outputs": [
    {
     "data": {
      "text/plain": [
       "{'name': 'ranjana',\n",
       " 'age': 22,\n",
       " 'email': 'ranjana123@gmail.com',\n",
       " 'contact': 9876543217}"
      ]
     },
     "execution_count": 43,
     "metadata": {},
     "output_type": "execute_result"
    }
   ],
   "source": [
    "del my_dic [\"address\"]   #delete an element\n",
    "\n",
    "\n",
    "my_dic"
   ]
  },
  {
   "cell_type": "markdown",
   "id": "b99d5f64-11ba-48a3-b27e-106413d432fa",
   "metadata": {},
   "source": [
    "# 8. importance of dictionary keys being immutable  "
   ]
  },
  {
   "cell_type": "code",
   "execution_count": null,
   "id": "0b995f7b-b607-45ac-aca7-2d9c2e0d2734",
   "metadata": {},
   "outputs": [],
   "source": [
    "#Purpose: Dictionary keys are used to access values, and they need to be hashed to quickly retrieve values. Hashing is a process that converts an object into a fixed-size integer that can be used to index the dictionary.\n",
    "#Requirement: For an object to be hashable, its hash value must remain constant throughout its lifetime. Immutable objects have a constant hash value, making them suitable as dictionary keys."
   ]
  },
  {
   "cell_type": "code",
   "execution_count": 44,
   "id": "dcfa8a5f-401e-4fd0-8314-1006f900cb74",
   "metadata": {},
   "outputs": [
    {
     "name": "stdout",
     "output_type": "stream",
     "text": [
      "tuple\n"
     ]
    }
   ],
   "source": [
    "my_dict = { (1, 2): \"tuple\" }  # Tuple is immutable and hashable\n",
    "print(my_dict[(1, 2)])  # Output: \"tuple\"\n"
   ]
  },
  {
   "cell_type": "code",
   "execution_count": null,
   "id": "290acf8c-5fd3-481a-8847-ff618d00ad7c",
   "metadata": {},
   "outputs": [],
   "source": []
  }
 ],
 "metadata": {
  "kernelspec": {
   "display_name": "Python 3 (ipykernel)",
   "language": "python",
   "name": "python3"
  },
  "language_info": {
   "codemirror_mode": {
    "name": "ipython",
    "version": 3
   },
   "file_extension": ".py",
   "mimetype": "text/x-python",
   "name": "python",
   "nbconvert_exporter": "python",
   "pygments_lexer": "ipython3",
   "version": "3.10.8"
  }
 },
 "nbformat": 4,
 "nbformat_minor": 5
}
